{
 "cells": [
  {
   "cell_type": "code",
   "execution_count": 3,
   "id": "bf00bc70",
   "metadata": {},
   "outputs": [],
   "source": [
    "def calculate_covariance_matrix(vectors: list[list[float]]) -> list[list[float]]:\n",
    "    n_features = len(vectors)\n",
    "    n_observations = len(vectors[0])\n",
    "    covariance_matrix = [[0 for _ in range(n_features)] for _ in range(n_features)]\n",
    "\n",
    "    means = [sum(feature) / n_observations for feature in vectors]\n",
    "\n",
    "    for i in range(n_features):\n",
    "        for j in range(i, n_features):\n",
    "            covariance = sum((vectors[i][k] - means[i]) * (vectors[j][k] - means[j]) for k in range(n_observations)) / (n_observations - 1)\n",
    "            covariance_matrix[i][j] = covariance_matrix[j][i] = covariance\n",
    "\n",
    "    return covariance_matrix"
   ]
  },
  {
   "cell_type": "code",
   "execution_count": 4,
   "id": "1f9dc1cd",
   "metadata": {},
   "outputs": [
    {
     "data": {
      "text/plain": [
       "[[1.0, 1.0], [1.0, 1.0]]"
      ]
     },
     "execution_count": 4,
     "metadata": {},
     "output_type": "execute_result"
    }
   ],
   "source": [
    "vectors = [[1, 2, 3], [4, 5, 6]]\n",
    "calculate_covariance_matrix(vectors)"
   ]
  }
 ],
 "metadata": {
  "kernelspec": {
   "display_name": "base",
   "language": "python",
   "name": "python3"
  },
  "language_info": {
   "codemirror_mode": {
    "name": "ipython",
    "version": 3
   },
   "file_extension": ".py",
   "mimetype": "text/x-python",
   "name": "python",
   "nbconvert_exporter": "python",
   "pygments_lexer": "ipython3",
   "version": "3.13.5"
  }
 },
 "nbformat": 4,
 "nbformat_minor": 5
}
