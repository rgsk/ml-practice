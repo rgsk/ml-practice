{
 "cells": [
  {
   "cell_type": "code",
   "execution_count": 3,
   "id": "30d73cb7",
   "metadata": {},
   "outputs": [],
   "source": [
    "def transpose_matrix(a: list[list[int|float]]) -> list[list[int|float]]:\n",
    "    return [list(i) for i in zip(*a)]\n",
    "\n",
    "def calculate_matrix_mean(matrix: list[list[float]], mode: str) -> list[float]:\n",
    "    if mode == 'row':\n",
    "        return [sum(row)/len(row) for row in matrix]\n",
    "    return calculate_matrix_mean(transpose_matrix(matrix), 'row')"
   ]
  },
  {
   "cell_type": "code",
   "execution_count": 4,
   "id": "80dd8e45",
   "metadata": {},
   "outputs": [
    {
     "data": {
      "text/plain": [
       "[4.0, 5.0, 6.0]"
      ]
     },
     "execution_count": 4,
     "metadata": {},
     "output_type": "execute_result"
    }
   ],
   "source": [
    "matrix = [[1, 2, 3], [4, 5, 6], [7, 8, 9]]\n",
    "mode = 'column'\n",
    "calculate_matrix_mean(matrix, mode)"
   ]
  },
  {
   "cell_type": "code",
   "execution_count": 5,
   "id": "ab2787f1",
   "metadata": {},
   "outputs": [],
   "source": [
    "def calculate_matrix_mean(matrix: list[list[float]], mode: str) -> list[float]:\n",
    "    if mode == 'column':\n",
    "        return [sum(col) / len(matrix) for col in zip(*matrix)]\n",
    "    elif mode == 'row':\n",
    "        return [sum(row) / len(row) for row in matrix]\n",
    "    else:\n",
    "        raise ValueError(\"Mode must be 'row' or 'column'\")"
   ]
  },
  {
   "cell_type": "code",
   "execution_count": 6,
   "id": "4eebb61d",
   "metadata": {},
   "outputs": [
    {
     "data": {
      "text/plain": [
       "[4.0, 5.0, 6.0]"
      ]
     },
     "execution_count": 6,
     "metadata": {},
     "output_type": "execute_result"
    }
   ],
   "source": [
    "matrix = [[1, 2, 3], [4, 5, 6], [7, 8, 9]]\n",
    "mode = 'column'\n",
    "calculate_matrix_mean(matrix, mode)"
   ]
  }
 ],
 "metadata": {
  "kernelspec": {
   "display_name": "base",
   "language": "python",
   "name": "python3"
  },
  "language_info": {
   "codemirror_mode": {
    "name": "ipython",
    "version": 3
   },
   "file_extension": ".py",
   "mimetype": "text/x-python",
   "name": "python",
   "nbconvert_exporter": "python",
   "pygments_lexer": "ipython3",
   "version": "3.13.5"
  }
 },
 "nbformat": 4,
 "nbformat_minor": 5
}
