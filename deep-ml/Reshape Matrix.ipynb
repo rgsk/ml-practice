{
 "cells": [
  {
   "cell_type": "code",
   "execution_count": 27,
   "id": "1c7bd4a4",
   "metadata": {},
   "outputs": [],
   "source": [
    "import numpy as np\n",
    "\n",
    "def reshape_matrix(a: list[list[int|float]], new_shape: tuple[int, int]) -> list[list[int|float]]:\n",
    "    shape = (len(a), len(a[0]))\n",
    "    if shape[0] * shape[1] != new_shape[0] * new_shape[1]:\n",
    "        return []\n",
    "    length = shape[0] * shape[1]\n",
    "    elements = [0] * length\n",
    "    for i in range(shape[0]):\n",
    "        for j in range(shape[1]):\n",
    "            elements[i * shape[1] + j] = a[i][j]\n",
    "\n",
    "    reshaped_matrix = [[elements[i * new_shape[1] + j] for j in range(new_shape[1])] for i in range(new_shape[0])]\n",
    "    return reshaped_matrix\n"
   ]
  },
  {
   "cell_type": "code",
   "execution_count": 28,
   "id": "bfd5ac3c",
   "metadata": {},
   "outputs": [
    {
     "data": {
      "text/plain": [
       "[[1, 2], [3, 4], [5, 6], [7, 8]]"
      ]
     },
     "execution_count": 28,
     "metadata": {},
     "output_type": "execute_result"
    }
   ],
   "source": [
    "a = [[1,2,3,4],[5,6,7,8]]\n",
    "new_shape = (4, 2)\n",
    "reshape_matrix(a, new_shape)"
   ]
  },
  {
   "cell_type": "code",
   "execution_count": 29,
   "id": "d78ad698",
   "metadata": {},
   "outputs": [],
   "source": [
    "import numpy as np\n",
    "\n",
    "def reshape_matrix(a: list[list[int|float]], new_shape: tuple[int|float]) -> list[list[int|float]]:\n",
    "    # Not compatible case\n",
    "    if len(a)*len(a[0]) != new_shape[0]*new_shape[1]:\n",
    "        return []\n",
    "    return np.array(a).reshape(new_shape).tolist()"
   ]
  },
  {
   "cell_type": "code",
   "execution_count": 30,
   "id": "71cfb8ba",
   "metadata": {},
   "outputs": [
    {
     "data": {
      "text/plain": [
       "[[1, 2], [3, 4], [5, 6], [7, 8]]"
      ]
     },
     "execution_count": 30,
     "metadata": {},
     "output_type": "execute_result"
    }
   ],
   "source": [
    "a = [[1,2,3,4],[5,6,7,8]]\n",
    "new_shape = (4, 2)\n",
    "reshape_matrix(a, new_shape)"
   ]
  },
  {
   "cell_type": "code",
   "execution_count": null,
   "id": "1f6c9123",
   "metadata": {},
   "outputs": [],
   "source": []
  }
 ],
 "metadata": {
  "kernelspec": {
   "display_name": "base",
   "language": "python",
   "name": "python3"
  },
  "language_info": {
   "codemirror_mode": {
    "name": "ipython",
    "version": 3
   },
   "file_extension": ".py",
   "mimetype": "text/x-python",
   "name": "python",
   "nbconvert_exporter": "python",
   "pygments_lexer": "ipython3",
   "version": "3.13.5"
  }
 },
 "nbformat": 4,
 "nbformat_minor": 5
}
