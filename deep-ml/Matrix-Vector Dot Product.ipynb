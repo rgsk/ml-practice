{
 "cells": [
  {
   "cell_type": "code",
   "execution_count": 5,
   "id": "707fb1e0",
   "metadata": {},
   "outputs": [],
   "source": [
    "def matrix_dot_vector(a: list[list[int|float]], b: list[int|float]) -> list[int|float]:\n",
    "\trows = len(a)\n",
    "\tcols = len(a[0])\n",
    "\tif cols != len(b):\n",
    "\t\treturn -1\n",
    "\tresult = [0] * rows\n",
    "\tfor i in range(rows):\n",
    "\t\ttotal = 0\n",
    "\t\tfor j in range(cols):\n",
    "\t\t\ttotal += a[i][j] * b[j]\n",
    "\t\tresult[i] = total\n",
    "\treturn result"
   ]
  },
  {
   "cell_type": "code",
   "execution_count": 6,
   "id": "40df5260",
   "metadata": {},
   "outputs": [
    {
     "data": {
      "text/plain": [
       "[5, 10]"
      ]
     },
     "execution_count": 6,
     "metadata": {},
     "output_type": "execute_result"
    }
   ],
   "source": [
    "a = [[1, 2], [2, 4]]\n",
    "b = [1, 2]\n",
    "matrix_dot_vector(a, b)"
   ]
  },
  {
   "cell_type": "code",
   "execution_count": 7,
   "id": "55cdda52",
   "metadata": {},
   "outputs": [
    {
     "name": "stdout",
     "output_type": "stream",
     "text": [
      "[14, 25, 49]\n"
     ]
    }
   ],
   "source": [
    "print(matrix_dot_vector([[1, 2, 3], [2, 4, 5], [6, 8, 9]], [1, 2, 3]))"
   ]
  },
  {
   "cell_type": "code",
   "execution_count": 8,
   "id": "09f78004",
   "metadata": {},
   "outputs": [
    {
     "name": "stdout",
     "output_type": "stream",
     "text": [
      "-1\n"
     ]
    }
   ],
   "source": [
    "print(matrix_dot_vector([[1, 2], [2, 4], [6, 8], [12, 4]], [1, 2, 3]))"
   ]
  },
  {
   "cell_type": "code",
   "execution_count": 9,
   "id": "80bff84c",
   "metadata": {},
   "outputs": [
    {
     "name": "stdout",
     "output_type": "stream",
     "text": [
      "[5.5, 10.0]\n"
     ]
    }
   ],
   "source": [
    "print(matrix_dot_vector([[1.5, 2.5], [3.0, 4.0]], [2, 1]))"
   ]
  }
 ],
 "metadata": {
  "kernelspec": {
   "display_name": "base",
   "language": "python",
   "name": "python3"
  },
  "language_info": {
   "codemirror_mode": {
    "name": "ipython",
    "version": 3
   },
   "file_extension": ".py",
   "mimetype": "text/x-python",
   "name": "python",
   "nbconvert_exporter": "python",
   "pygments_lexer": "ipython3",
   "version": "3.13.5"
  }
 },
 "nbformat": 4,
 "nbformat_minor": 5
}
