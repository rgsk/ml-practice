{
 "cells": [
  {
   "cell_type": "markdown",
   "id": "23d1b540",
   "metadata": {},
   "source": [
    "## Linear Regression — Normal Equation Method\n",
    "\n",
    "👉 [View Proof](./linear_regression_normal_equation.pdf)"
   ]
  },
  {
   "cell_type": "code",
   "execution_count": 13,
   "id": "1eefbf5a",
   "metadata": {},
   "outputs": [
    {
     "data": {
      "text/plain": [
       "(np.float64(100.00000000000112), array([200.]))"
      ]
     },
     "execution_count": 13,
     "metadata": {},
     "output_type": "execute_result"
    }
   ],
   "source": [
    "import numpy as np\n",
    "\n",
    "\n",
    "X = np.array([[1.0], [2.0]])        \n",
    "y = np.array([300.0, 500.0])  \n",
    "\n",
    "# Step 1: Add a column of 1s to X for the bias term\n",
    "m = X.shape[0]\n",
    "X_aug = np.hstack([np.ones((m, 1)), X])  # (m x (n+1))\n",
    "\n",
    "# Step 2: Apply normal equation\n",
    "theta = np.linalg.inv(X_aug.T @ X_aug) @ (X_aug.T @ y)\n",
    "\n",
    "# Extract bias and weights\n",
    "b = theta[0]\n",
    "w = theta[1:]\n",
    "\n",
    "b, w"
   ]
  },
  {
   "cell_type": "code",
   "execution_count": 14,
   "id": "6c65f28e",
   "metadata": {},
   "outputs": [
    {
     "name": "stdout",
     "output_type": "stream",
     "text": [
      "prediction: 300.00, target value: 300.0\n",
      "prediction: 500.00, target value: 500.0\n"
     ]
    }
   ],
   "source": [
    "for i in range(m):\n",
    "    print(f\"prediction: {np.dot(X[i], w) + b:0.2f}, target value: {y[i]}\")"
   ]
  },
  {
   "cell_type": "code",
   "execution_count": 15,
   "id": "e425c9f9",
   "metadata": {},
   "outputs": [
    {
     "data": {
      "text/plain": [
       "(np.float64(1604.6333333318325),\n",
       " array([  -4.225     , 2122.36666667,  712.23333333,  -79.54      ]))"
      ]
     },
     "execution_count": 15,
     "metadata": {},
     "output_type": "execute_result"
    }
   ],
   "source": [
    "import numpy as np\n",
    "\n",
    "\n",
    "X = np.array([\n",
    "    [2104, 5, 1, 45],  \n",
    "    [1416, 3, 2, 40],\n",
    "    [852,  2, 1, 35],  \n",
    "    [1600, 3, 2, 30],  \n",
    "    [2400, 4, 3, 20]   \n",
    "])\n",
    "\n",
    "y = np.array([460, 232, 178, 250, 500])\n",
    "\n",
    "\n",
    "# Step 1: Add a column of 1s to X for the bias term\n",
    "m = X.shape[0]\n",
    "X_aug = np.hstack([np.ones((m, 1)), X])  # (m x (n+1))\n",
    "\n",
    "# Step 2: Apply normal equation\n",
    "theta = np.linalg.inv(X_aug.T @ X_aug) @ (X_aug.T @ y)\n",
    "\n",
    "# Extract bias and weights\n",
    "b = theta[0]\n",
    "w = theta[1:]\n",
    "\n",
    "b, w"
   ]
  },
  {
   "cell_type": "code",
   "execution_count": 16,
   "id": "ec6f1d36",
   "metadata": {},
   "outputs": [
    {
     "name": "stdout",
     "output_type": "stream",
     "text": [
      "prediction: 460.00, target value: 460\n",
      "prediction: 232.00, target value: 232\n",
      "prediction: 178.00, target value: 178\n",
      "prediction: 250.00, target value: 250\n",
      "prediction: 500.00, target value: 500\n"
     ]
    }
   ],
   "source": [
    "for i in range(m):\n",
    "    print(f\"prediction: {np.dot(X[i], w) + b:0.2f}, target value: {y[i]}\")"
   ]
  }
 ],
 "metadata": {
  "kernelspec": {
   "display_name": "base",
   "language": "python",
   "name": "python3"
  },
  "language_info": {
   "codemirror_mode": {
    "name": "ipython",
    "version": 3
   },
   "file_extension": ".py",
   "mimetype": "text/x-python",
   "name": "python",
   "nbconvert_exporter": "python",
   "pygments_lexer": "ipython3",
   "version": "3.13.5"
  }
 },
 "nbformat": 4,
 "nbformat_minor": 5
}
