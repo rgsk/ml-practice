{
 "cells": [
  {
   "cell_type": "code",
   "execution_count": 1,
   "id": "968dad53",
   "metadata": {},
   "outputs": [
    {
     "name": "stdout",
     "output_type": "stream",
     "text": [
      "Original: [10. 20. 30. 40. 50.]\n",
      "Divide by max: [0.2 0.4 0.6 0.8 1. ]\n",
      "Mean normalization: [-0.5  -0.25  0.    0.25  0.5 ]\n",
      "Z-score normalization: [-1.41421356 -0.70710678  0.          0.70710678  1.41421356]\n"
     ]
    }
   ],
   "source": [
    "import numpy as np\n",
    "\n",
    "# Sample data\n",
    "X = np.array([10, 20, 30, 40, 50], dtype=float)\n",
    "\n",
    "# 1. Dividing by max\n",
    "X_div_max = X / np.max(X)\n",
    "\n",
    "# 2. Mean Normalization\n",
    "X_mean_norm = (X - np.mean(X)) / (np.max(X) - np.min(X))\n",
    "\n",
    "# 3. Z-score Normalization\n",
    "X_zscore = (X - np.mean(X)) / np.std(X)\n",
    "\n",
    "print(\"Original:\", X)\n",
    "print(\"Divide by max:\", X_div_max)\n",
    "print(\"Mean normalization:\", X_mean_norm)\n",
    "print(\"Z-score normalization:\", X_zscore)"
   ]
  }
 ],
 "metadata": {
  "kernelspec": {
   "display_name": "base",
   "language": "python",
   "name": "python3"
  },
  "language_info": {
   "codemirror_mode": {
    "name": "ipython",
    "version": 3
   },
   "file_extension": ".py",
   "mimetype": "text/x-python",
   "name": "python",
   "nbconvert_exporter": "python",
   "pygments_lexer": "ipython3",
   "version": "3.13.5"
  }
 },
 "nbformat": 4,
 "nbformat_minor": 5
}
