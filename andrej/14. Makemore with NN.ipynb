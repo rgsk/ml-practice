{
 "cells": [
  {
   "cell_type": "code",
   "execution_count": 1,
   "id": "1007fbf2",
   "metadata": {},
   "outputs": [],
   "source": [
    "import torch\n",
    "import matplotlib.pyplot as plt"
   ]
  },
  {
   "cell_type": "code",
   "execution_count": 2,
   "id": "394ade0a",
   "metadata": {},
   "outputs": [],
   "source": [
    "words = open('names.txt', 'r').read().splitlines()"
   ]
  },
  {
   "cell_type": "code",
   "execution_count": 3,
   "id": "825f7f80",
   "metadata": {},
   "outputs": [
    {
     "data": {
      "text/plain": [
       "['emma',\n",
       " 'olivia',\n",
       " 'ava',\n",
       " 'isabella',\n",
       " 'sophia',\n",
       " 'charlotte',\n",
       " 'mia',\n",
       " 'amelia',\n",
       " 'harper',\n",
       " 'evelyn']"
      ]
     },
     "execution_count": 3,
     "metadata": {},
     "output_type": "execute_result"
    }
   ],
   "source": [
    "words[:10]"
   ]
  },
  {
   "cell_type": "code",
   "execution_count": 4,
   "id": "693f17c2",
   "metadata": {},
   "outputs": [],
   "source": [
    "chars = sorted(list(set(''.join(words))))\n",
    "stoi = {s:i+1 for i, s in enumerate(chars)}\n",
    "stoi['.'] = 0\n",
    "itos = {i: s for s, i in stoi.items()}"
   ]
  },
  {
   "cell_type": "code",
   "execution_count": 5,
   "id": "899d7174",
   "metadata": {},
   "outputs": [
    {
     "name": "stdout",
     "output_type": "stream",
     "text": [
      ". e\n",
      "e m\n",
      "m m\n",
      "m a\n",
      "a .\n"
     ]
    }
   ],
   "source": [
    "xs, ys = [], []\n",
    "\n",
    "for w in words[:1]:\n",
    "    chs = ['.'] + list(w) + ['.']\n",
    "    for ch1, ch2 in zip(chs, chs[1:]):\n",
    "        ix1 = stoi[ch1]\n",
    "        ix2 = stoi[ch2]\n",
    "        print(ch1, ch2)\n",
    "        xs.append(ix1)\n",
    "        ys.append(ix2)\n",
    "\n",
    "xs = torch.tensor(xs)\n",
    "ys = torch.tensor(ys)"
   ]
  },
  {
   "cell_type": "code",
   "execution_count": 6,
   "id": "38ca9b1c",
   "metadata": {},
   "outputs": [
    {
     "data": {
      "text/plain": [
       "tensor([ 0,  5, 13, 13,  1])"
      ]
     },
     "execution_count": 6,
     "metadata": {},
     "output_type": "execute_result"
    }
   ],
   "source": [
    "xs"
   ]
  },
  {
   "cell_type": "code",
   "execution_count": 7,
   "id": "3edf858b",
   "metadata": {},
   "outputs": [
    {
     "data": {
      "text/plain": [
       "tensor([ 5, 13, 13,  1,  0])"
      ]
     },
     "execution_count": 7,
     "metadata": {},
     "output_type": "execute_result"
    }
   ],
   "source": [
    "ys"
   ]
  },
  {
   "cell_type": "code",
   "execution_count": 8,
   "id": "77ea22ed",
   "metadata": {},
   "outputs": [
    {
     "data": {
      "text/plain": [
       "tensor([[1., 0., 0., 0., 0., 0., 0., 0., 0., 0., 0., 0., 0., 0., 0., 0., 0., 0.,\n",
       "         0., 0., 0., 0., 0., 0., 0., 0., 0.],\n",
       "        [0., 0., 0., 0., 0., 1., 0., 0., 0., 0., 0., 0., 0., 0., 0., 0., 0., 0.,\n",
       "         0., 0., 0., 0., 0., 0., 0., 0., 0.],\n",
       "        [0., 0., 0., 0., 0., 0., 0., 0., 0., 0., 0., 0., 0., 1., 0., 0., 0., 0.,\n",
       "         0., 0., 0., 0., 0., 0., 0., 0., 0.],\n",
       "        [0., 0., 0., 0., 0., 0., 0., 0., 0., 0., 0., 0., 0., 1., 0., 0., 0., 0.,\n",
       "         0., 0., 0., 0., 0., 0., 0., 0., 0.],\n",
       "        [0., 1., 0., 0., 0., 0., 0., 0., 0., 0., 0., 0., 0., 0., 0., 0., 0., 0.,\n",
       "         0., 0., 0., 0., 0., 0., 0., 0., 0.]])"
      ]
     },
     "execution_count": 8,
     "metadata": {},
     "output_type": "execute_result"
    }
   ],
   "source": [
    "import torch.nn.functional as F\n",
    "xenc = F.one_hot(xs, num_classes=27).float()\n",
    "xenc"
   ]
  },
  {
   "cell_type": "code",
   "execution_count": 9,
   "id": "5fcf7467",
   "metadata": {},
   "outputs": [
    {
     "data": {
      "text/plain": [
       "torch.Size([5, 27])"
      ]
     },
     "execution_count": 9,
     "metadata": {},
     "output_type": "execute_result"
    }
   ],
   "source": [
    "xenc.shape"
   ]
  },
  {
   "cell_type": "code",
   "execution_count": 10,
   "id": "6f848fc3",
   "metadata": {},
   "outputs": [
    {
     "data": {
      "text/plain": [
       "<matplotlib.image.AxesImage at 0x3004bdd30>"
      ]
     },
     "execution_count": 10,
     "metadata": {},
     "output_type": "execute_result"
    },
    {
     "data": {
      "image/png": "[encoded data removed]",
      "text/plain": [
       "<Figure size 640x480 with 1 Axes>"
      ]
     },
     "metadata": {},
     "output_type": "display_data"
    }
   ],
   "source": [
    "plt.imshow(xenc)"
   ]
  },
  {
   "cell_type": "code",
   "execution_count": 11,
   "id": "068c60e4",
   "metadata": {},
   "outputs": [
    {
     "data": {
      "text/plain": [
       "torch.float32"
      ]
     },
     "execution_count": 11,
     "metadata": {},
     "output_type": "execute_result"
    }
   ],
   "source": [
    "xenc.dtype"
   ]
  },
  {
   "cell_type": "code",
   "execution_count": 12,
   "id": "f4e7dc40",
   "metadata": {},
   "outputs": [
    {
     "data": {
      "text/plain": [
       "tensor([[ 0.7705,  1.7746, -0.5880, -1.1258,  1.5898,  1.9118,  0.6364,  0.5766,\n",
       "         -0.9974, -0.2869, -0.9528, -1.2419, -0.3427, -0.2150,  1.4217, -1.9592,\n",
       "         -0.6971, -0.6006, -0.3988,  1.0183,  1.0197, -2.1205, -0.8522,  0.4002,\n",
       "         -2.7285, -0.3351,  1.5705],\n",
       "        [ 0.1099,  0.5492, -0.0782, -0.1606, -0.1340, -0.6621,  0.5519, -1.4361,\n",
       "          0.1905, -0.9993, -2.0635,  0.4439,  0.0322, -0.2025,  1.3168, -1.4344,\n",
       "         -0.9089,  0.3389,  0.6443,  1.3405, -0.3875,  0.2567, -0.9844,  0.1129,\n",
       "         -0.1315, -0.7200,  0.7289],\n",
       "        [-0.4975,  0.5845,  0.1667,  1.2808,  0.7090, -0.9272,  0.4006, -0.3979,\n",
       "         -0.6262, -0.4729, -0.6175, -0.0334,  0.3470, -0.3121, -0.8718, -0.3047,\n",
       "          0.5358,  0.2500,  1.3492, -0.6529,  0.1739, -0.6980,  0.3226,  0.1019,\n",
       "          0.7784, -0.0533, -1.1418],\n",
       "        [-0.4975,  0.5845,  0.1667,  1.2808,  0.7090, -0.9272,  0.4006, -0.3979,\n",
       "         -0.6262, -0.4729, -0.6175, -0.0334,  0.3470, -0.3121, -0.8718, -0.3047,\n",
       "          0.5358,  0.2500,  1.3492, -0.6529,  0.1739, -0.6980,  0.3226,  0.1019,\n",
       "          0.7784, -0.0533, -1.1418],\n",
       "        [ 0.2612,  0.5618, -0.5581, -0.4829,  0.8655,  0.5817,  0.2434, -0.3552,\n",
       "         -0.3125,  0.9186, -1.3297,  0.6398, -0.3438,  0.0227, -0.2776, -0.8521,\n",
       "          0.1079,  0.2370, -1.7378,  0.7976, -1.4460, -0.5384, -1.1301, -0.8253,\n",
       "          0.4257,  0.3765,  1.7134]])"
      ]
     },
     "execution_count": 12,
     "metadata": {},
     "output_type": "execute_result"
    }
   ],
   "source": [
    "W = torch.randn((27, 27))\n",
    "xenc @ W"
   ]
  },
  {
   "cell_type": "code",
   "execution_count": 13,
   "id": "7fc69dcc",
   "metadata": {},
   "outputs": [
    {
     "data": {
      "text/plain": [
       "tensor([[0.0462, 0.1261, 0.0119, 0.0069, 0.1049, 0.1447, 0.0404, 0.0381, 0.0079,\n",
       "         0.0161, 0.0082, 0.0062, 0.0152, 0.0172, 0.0886, 0.0030, 0.0107, 0.0117,\n",
       "         0.0144, 0.0592, 0.0593, 0.0026, 0.0091, 0.0319, 0.0014, 0.0153, 0.1028],\n",
       "        [0.0354, 0.0550, 0.0294, 0.0270, 0.0278, 0.0164, 0.0551, 0.0075, 0.0384,\n",
       "         0.0117, 0.0040, 0.0495, 0.0328, 0.0259, 0.1184, 0.0076, 0.0128, 0.0445,\n",
       "         0.0605, 0.1213, 0.0215, 0.0410, 0.0119, 0.0355, 0.0278, 0.0154, 0.0658],\n",
       "        [0.0186, 0.0548, 0.0361, 0.1100, 0.0621, 0.0121, 0.0456, 0.0205, 0.0163,\n",
       "         0.0190, 0.0165, 0.0295, 0.0432, 0.0224, 0.0128, 0.0225, 0.0522, 0.0392,\n",
       "         0.1178, 0.0159, 0.0364, 0.0152, 0.0422, 0.0338, 0.0665, 0.0290, 0.0098],\n",
       "        [0.0186, 0.0548, 0.0361, 0.1100, 0.0621, 0.0121, 0.0456, 0.0205, 0.0163,\n",
       "         0.0190, 0.0165, 0.0295, 0.0432, 0.0224, 0.0128, 0.0225, 0.0522, 0.0392,\n",
       "         0.1178, 0.0159, 0.0364, 0.0152, 0.0422, 0.0338, 0.0665, 0.0290, 0.0098],\n",
       "        [0.0387, 0.0522, 0.0170, 0.0184, 0.0707, 0.0533, 0.0380, 0.0209, 0.0218,\n",
       "         0.0746, 0.0079, 0.0564, 0.0211, 0.0305, 0.0226, 0.0127, 0.0332, 0.0377,\n",
       "         0.0052, 0.0661, 0.0070, 0.0174, 0.0096, 0.0130, 0.0456, 0.0434, 0.1652]])"
      ]
     },
     "execution_count": 13,
     "metadata": {},
     "output_type": "execute_result"
    }
   ],
   "source": [
    "logits = xenc @ W # log-counts\n",
    "counts = logits.exp() # equivalent to N\n",
    "probs = counts / counts.sum(1, keepdim=True)\n",
    "probs"
   ]
  },
  {
   "cell_type": "code",
   "execution_count": 14,
   "id": "827027fe",
   "metadata": {},
   "outputs": [
    {
     "data": {
      "text/plain": [
       "torch.Size([5, 27])"
      ]
     },
     "execution_count": 14,
     "metadata": {},
     "output_type": "execute_result"
    }
   ],
   "source": [
    "probs.shape"
   ]
  },
  {
   "cell_type": "code",
   "execution_count": null,
   "id": "91893ec2",
   "metadata": {},
   "outputs": [],
   "source": []
  }
 ],
 "metadata": {
  "kernelspec": {
   "display_name": "base",
   "language": "python",
   "name": "python3"
  },
  "language_info": {
   "codemirror_mode": {
    "name": "ipython",
    "version": 3
   },
   "file_extension": ".py",
   "mimetype": "text/x-python",
   "name": "python",
   "nbconvert_exporter": "python",
   "pygments_lexer": "ipython3",
   "version": "3.13.5"
  }
 },
 "nbformat": 4,
 "nbformat_minor": 5
}
