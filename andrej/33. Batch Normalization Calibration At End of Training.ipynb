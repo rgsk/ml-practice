{
 "cells": [
  {
   "cell_type": "code",
   "execution_count": 27,
   "id": "d46c6868",
   "metadata": {},
   "outputs": [],
   "source": [
    "import torch\n",
    "import torch.nn.functional as F\n",
    "import matplotlib.pyplot as plt"
   ]
  },
  {
   "cell_type": "code",
   "execution_count": 28,
   "id": "ca0ad736",
   "metadata": {},
   "outputs": [
    {
     "data": {
      "text/plain": [
       "['emma', 'olivia', 'ava', 'isabella', 'sophia', 'charlotte', 'mia', 'amelia']"
      ]
     },
     "execution_count": 28,
     "metadata": {},
     "output_type": "execute_result"
    }
   ],
   "source": [
    "# read in all the words\n",
    "words = open('names.txt', 'r').read().splitlines()\n",
    "words[:8]"
   ]
  },
  {
   "cell_type": "code",
   "execution_count": 29,
   "id": "0d6ad254",
   "metadata": {},
   "outputs": [
    {
     "data": {
      "text/plain": [
       "32033"
      ]
     },
     "execution_count": 29,
     "metadata": {},
     "output_type": "execute_result"
    }
   ],
   "source": [
    "len(words)"
   ]
  },
  {
   "cell_type": "code",
   "execution_count": 30,
   "id": "c6699011",
   "metadata": {},
   "outputs": [
    {
     "name": "stdout",
     "output_type": "stream",
     "text": [
      "itos={1: 'a', 2: 'b', 3: 'c', 4: 'd', 5: 'e', 6: 'f', 7: 'g', 8: 'h', 9: 'i', 10: 'j', 11: 'k', 12: 'l', 13: 'm', 14: 'n', 15: 'o', 16: 'p', 17: 'q', 18: 'r', 19: 's', 20: 't', 21: 'u', 22: 'v', 23: 'w', 24: 'x', 25: 'y', 26: 'z', 0: '.'}\n",
      "vocab_size=27\n"
     ]
    }
   ],
   "source": [
    "# build the vocabulary of characters and mappings to/from integers\n",
    "chars = sorted(list(set(''.join(words))))\n",
    "stoi = {s:i+1 for i, s in enumerate(chars)}\n",
    "stoi['.'] = 0\n",
    "itos = {i: s for s, i in stoi.items()}\n",
    "vocab_size = len(itos)\n",
    "print(f'{itos=}')\n",
    "print(f'{vocab_size=}')"
   ]
  },
  {
   "cell_type": "code",
   "execution_count": 31,
   "id": "426bb74c",
   "metadata": {},
   "outputs": [
    {
     "name": "stdout",
     "output_type": "stream",
     "text": [
      "torch.Size([182625, 3]) torch.Size([182625])\n",
      "torch.Size([22655, 3]) torch.Size([22655])\n",
      "torch.Size([22866, 3]) torch.Size([22866])\n"
     ]
    }
   ],
   "source": [
    "# build the dataset\n",
    "block_size = 3 # context length: how many characters do we take to predict the next one?\n",
    "\n",
    "def build_dataset(words):  \n",
    "  X, Y = [], []\n",
    "  for w in words:\n",
    "    context = [0] * block_size\n",
    "    for ch in w + '.':\n",
    "      ix = stoi[ch]\n",
    "      X.append(context)\n",
    "      Y.append(ix)\n",
    "      context = context[1:] + [ix] # crop and append\n",
    "\n",
    "  X = torch.tensor(X)\n",
    "  Y = torch.tensor(Y)\n",
    "  print(X.shape, Y.shape)\n",
    "  return X, Y\n",
    "\n",
    "import random\n",
    "random.seed(42)\n",
    "random.shuffle(words)\n",
    "n1 = int(0.8*len(words))\n",
    "n2 = int(0.9*len(words))\n",
    "\n",
    "Xtr, Ytr = build_dataset(words[:n1]) # 80%\n",
    "Xdev, Ydev = build_dataset(words[n1:n2]) # 10%\n",
    "Xte, Yte = build_dataset(words[n2:]) # 10%"
   ]
  },
  {
   "cell_type": "code",
   "execution_count": 32,
   "id": "c7d4998d",
   "metadata": {},
   "outputs": [
    {
     "name": "stdout",
     "output_type": "stream",
     "text": [
      "n_parameters=12297\n"
     ]
    }
   ],
   "source": [
    "# MLP\n",
    "n_embed = 10 # the dimensionality of the character embedding vectors\n",
    "n_hidden = 200 # the number of neurons in the hidden layer of the MLP\n",
    "\n",
    "g = torch.Generator().manual_seed(2147483647) # for reproducibility\n",
    "C = torch.randn((vocab_size, n_embed), generator=g)\n",
    "# below is kaiming init\n",
    "# gain = 5/3 for tanh non-linearity\n",
    "W1 = torch.randn((n_embed * block_size, n_hidden), generator=g) * (5/3)/((n_embed * block_size) ** 0.5)\n",
    "b1 = torch.randn(n_hidden, generator=g) * 0.01\n",
    "W2 = torch.randn((n_hidden, vocab_size), generator=g) * 0.01 # W2 scaled down significantly\n",
    "b2 = torch.randn(vocab_size, generator=g) * 0 # b2 reduced to 0\n",
    "\n",
    "bngain = torch.ones((1, n_hidden))\n",
    "bnbias = torch.zeros((1, n_hidden))\n",
    "\n",
    "parameters = [C, W1, b1, W2, b2, bngain, bnbias]\n",
    "\n",
    "n_parameters = sum(p.nelement() for p in parameters)\n",
    "print(f'{n_parameters=}')\n",
    "for p in parameters:\n",
    "    p.requires_grad = True"
   ]
  },
  {
   "cell_type": "code",
   "execution_count": 33,
   "id": "cc18c7b6",
   "metadata": {},
   "outputs": [
    {
     "name": "stdout",
     "output_type": "stream",
     "text": [
      "      0/ 100000: 3.3147\n",
      "  10000/ 100000: 2.1984\n",
      "  20000/ 100000: 2.3375\n",
      "  30000/ 100000: 2.4359\n",
      "  40000/ 100000: 2.0119\n",
      "  50000/ 100000: 2.2595\n",
      "  60000/ 100000: 2.4233\n",
      "  70000/ 100000: 1.9934\n",
      "  80000/ 100000: 2.2457\n",
      "  90000/ 100000: 2.0637\n"
     ]
    }
   ],
   "source": [
    "max_steps = 100000\n",
    "batch_size = 32\n",
    "lossi = []\n",
    "\n",
    "for i in range(max_steps):\n",
    "    # minibatch construct\n",
    "    ix = torch.randint(0, Xtr.shape[0], (batch_size,),generator=g)\n",
    "    Xb, Yb = Xtr[ix], Ytr[ix] # batch X, Y\n",
    "\n",
    "    # forward pass\n",
    "    emb = C[Xb] # embed the characters into vectors\n",
    "    embcat = emb.view(emb.shape[0], -1) # cancatenate the vectors\n",
    "    hpreact = embcat @ W1 + b1 # hidden layer pre-activation\n",
    "    hpreact = bngain * ((hpreact - hpreact.mean(0, keepdim=True)) / hpreact.std(0, keepdim=True)) + bnbias\n",
    "\n",
    "    h = torch.tanh(hpreact) # hidden layer\n",
    "    logits = h @ W2 + b2 # output layer\n",
    "    loss = F.cross_entropy(logits, Yb) # loss function\n",
    "\n",
    "    # backward pass\n",
    "    for p in parameters:\n",
    "        p.grad = None\n",
    "    loss.backward()\n",
    "\n",
    "    # update\n",
    "    lr = 0.1 if i < 50000 else 0.01 # step learning rate decay\n",
    "    for p in parameters:\n",
    "        p.data += -lr * p.grad\n",
    "        # track stats\n",
    "    if i % 10000 == 0: # print every once in a while\n",
    "        print(f'{i:7d}/{max_steps:7d}: {loss.item():.4f}')\n",
    "    lossi.append(loss.log10().item())"
   ]
  },
  {
   "cell_type": "code",
   "execution_count": 34,
   "id": "e232eb6d",
   "metadata": {},
   "outputs": [],
   "source": [
    "# calibrate the batch norm at the end of training\n",
    "\n",
    "with torch.no_grad():\n",
    "    # pass the training set through\n",
    "    emb = C[Xtr]\n",
    "    embcat = emb.view(emb.shape[0], -1)\n",
    "    hpreact = embcat @ W1 + b1\n",
    "    # measure the mean/std over the entire training set\n",
    "    bnmean = hpreact.mean(0, keepdim = True)\n",
    "    bnstd = hpreact.std(0, keepdim = True)"
   ]
  },
  {
   "cell_type": "code",
   "execution_count": 35,
   "id": "b6a21dc4",
   "metadata": {},
   "outputs": [
    {
     "name": "stdout",
     "output_type": "stream",
     "text": [
      "train 2.09417462348938\n",
      "val 2.124377489089966\n"
     ]
    }
   ],
   "source": [
    "@torch.no_grad() # this decorator disables gradient tracking\n",
    "# this prevents torch from keeping track of computational graph, because we aren't going to do backward pass\n",
    "def split_loss(split):\n",
    "    x, y = {\n",
    "        'train': (Xtr, Ytr),\n",
    "        'val': (Xdev, Ydev),\n",
    "        'test': (Xte, Yte),\n",
    "    }[split]\n",
    "    emb = C[x] # (N, block_size, n_embed)\n",
    "    embcat = emb.view(emb.shape[0], -1) # concat into (N, block_size * n_embed)\n",
    "    hpreact = embcat @ W1 + b1\n",
    "    # hpreact = bngain * (hpreact - hpreact.mean(0, keepdim=True) / hpreact.std(0, keepdim=True)) + bnbias\n",
    "    hpreact = bngain * ((hpreact - bnmean) / bnstd) + bnbias\n",
    "    h = torch.tanh(hpreact) # (N, n_hidden)\n",
    "    logits = h @ W2 + b2 # (N, vocab_size)\n",
    "    loss = F.cross_entropy(logits, y)\n",
    "    print(split, loss.item())\n",
    "\n",
    "split_loss('train')\n",
    "split_loss('val')"
   ]
  },
  {
   "cell_type": "code",
   "execution_count": 36,
   "id": "83cb4f9f",
   "metadata": {},
   "outputs": [
    {
     "name": "stdout",
     "output_type": "stream",
     "text": [
      "carmah.\n",
      "amille.\n",
      "khi.\n",
      "mrix.\n",
      "taty.\n",
      "salaysie.\n",
      "rahnee.\n",
      "delynn.\n",
      "jarqui.\n",
      "nellara.\n",
      "chaiir.\n",
      "kaleigh.\n",
      "ham.\n",
      "join.\n",
      "quinn.\n",
      "suli.\n",
      "malianni.\n",
      "wate.\n",
      "madiaryni.\n",
      "jace.\n"
     ]
    }
   ],
   "source": [
    "# sample from the model\n",
    "g = torch.Generator().manual_seed(2147483647 + 10)\n",
    "\n",
    "for _ in range(20):\n",
    "    \n",
    "    out = []\n",
    "    context = [0] * block_size # initialize with all ...\n",
    "    while True:\n",
    "      emb = C[torch.tensor([context])] # (1,block_size,d)\n",
    "      hpreact = emb.view(1, -1) @ W1 + b1\n",
    "      hpreact = bngain * ((hpreact - bnmean) / bnstd) + bnbias\n",
    "      h = torch.tanh(hpreact)\n",
    "      logits = h @ W2 + b2\n",
    "      probs = F.softmax(logits, dim=1)\n",
    "      ix = torch.multinomial(probs, num_samples=1, generator=g).item()\n",
    "      context = context[1:] + [ix]\n",
    "      out.append(ix)\n",
    "      if ix == 0:\n",
    "        break\n",
    "    \n",
    "    print(''.join(itos[i] for i in out))"
   ]
  },
  {
   "cell_type": "code",
   "execution_count": 37,
   "id": "3f076448",
   "metadata": {},
   "outputs": [],
   "source": [
    "# conclusion\n",
    "# loss log\n",
    "\n",
    "'''\n",
    "original: \n",
    "train 2.1267659664154053\n",
    "val 2.1697638034820557\n",
    "\n",
    "fix softmax confidently wrong, reducing logits extremes, by reducing initial size of W2, b2:\n",
    "train 2.0695769786834717\n",
    "val 2.131199836730957\n",
    "\n",
    "fix tanh layer too saturated at init, preventing h taking values at tails of tanh after \"first iteration\",\n",
    "by reducing initial size of W1, b1\n",
    "train 2.0369434356689453\n",
    "val 2.103416919708252\n",
    "\n",
    "add a batch norm layer\n",
    "train 2.0459063053131104\n",
    "val 2.1086337566375732\n",
    "'''; "
   ]
  },
  {
   "cell_type": "code",
   "execution_count": 38,
   "id": "2dea8ddf",
   "metadata": {},
   "outputs": [
    {
     "data": {
      "text/plain": [
       "\"\\ndef tanh(self):\\n        x = self.data\\n        t = (math.exp(2 * x) - 1) / (math.exp(2 * x) + 1)\\n        out = Value(t, (self,), 'tanh')\\n        def _backward():\\n            self.grad += (1 - t**2) * out.grad\\n        out._backward = _backward\\n        return out\\n\\nfocus on this formula - self.grad += (1 - t**2) * out.grad\\n\\nif t = 0, then during backward pass gradient will pass on to children nodes\\nif t = 1/-1, then gradient passed will be 0\\n\""
      ]
     },
     "execution_count": 38,
     "metadata": {},
     "output_type": "execute_result"
    }
   ],
   "source": [
    "# what we want is before applying tanh, we need to make sure that \n",
    "# hpreact is neither too small or too extreme\n",
    "# remember below is the tanh backward implementation\n",
    "\n",
    "'''\n",
    "def tanh(self):\n",
    "        x = self.data\n",
    "        t = (math.exp(2 * x) - 1) / (math.exp(2 * x) + 1)\n",
    "        out = Value(t, (self,), 'tanh')\n",
    "        def _backward():\n",
    "            self.grad += (1 - t**2) * out.grad\n",
    "        out._backward = _backward\n",
    "        return out\n",
    "\n",
    "focus on this formula - self.grad += (1 - t**2) * out.grad\n",
    "\n",
    "if t = 0, then during backward pass gradient will pass on to children nodes\n",
    "if t = 1/-1, then gradient passed will be 0\n",
    "'''\n",
    "\n",
    "# so we want to hpreact to be gaussian distribution, values uniformly distributed b/w -1 and 1\n",
    "# so we perform batch normalisation\n",
    "\n",
    "# why multiply by bngain and then add bnbias?\n",
    "# answer - because we want to allow hpreact to remain gaussian but allow it's scaling and movement\n",
    "# so multiplying by bngain ensures model can scale up or down hpreact, and adding bnbias ensures\n",
    "# it can move the hpreact left or right according to optimization during the NN training "
   ]
  }
 ],
 "metadata": {
  "kernelspec": {
   "display_name": "base",
   "language": "python",
   "name": "python3"
  },
  "language_info": {
   "codemirror_mode": {
    "name": "ipython",
    "version": 3
   },
   "file_extension": ".py",
   "mimetype": "text/x-python",
   "name": "python",
   "nbconvert_exporter": "python",
   "pygments_lexer": "ipython3",
   "version": "3.13.5"
  }
 },
 "nbformat": 4,
 "nbformat_minor": 5
}
