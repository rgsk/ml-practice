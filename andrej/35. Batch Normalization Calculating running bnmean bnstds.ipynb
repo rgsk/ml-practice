{
 "cells": [
  {
   "cell_type": "code",
   "execution_count": 1,
   "id": "d46c6868",
   "metadata": {},
   "outputs": [],
   "source": [
    "import torch\n",
    "import torch.nn.functional as F\n",
    "import matplotlib.pyplot as plt"
   ]
  },
  {
   "cell_type": "code",
   "execution_count": 2,
   "id": "ca0ad736",
   "metadata": {},
   "outputs": [
    {
     "data": {
      "text/plain": [
       "['emma', 'olivia', 'ava', 'isabella', 'sophia', 'charlotte', 'mia', 'amelia']"
      ]
     },
     "execution_count": 2,
     "metadata": {},
     "output_type": "execute_result"
    }
   ],
   "source": [
    "# read in all the words\n",
    "words = open('names.txt', 'r').read().splitlines()\n",
    "words[:8]"
   ]
  },
  {
   "cell_type": "code",
   "execution_count": 3,
   "id": "0d6ad254",
   "metadata": {},
   "outputs": [
    {
     "data": {
      "text/plain": [
       "32033"
      ]
     },
     "execution_count": 3,
     "metadata": {},
     "output_type": "execute_result"
    }
   ],
   "source": [
    "len(words)"
   ]
  },
  {
   "cell_type": "code",
   "execution_count": 4,
   "id": "c6699011",
   "metadata": {},
   "outputs": [
    {
     "name": "stdout",
     "output_type": "stream",
     "text": [
      "itos={1: 'a', 2: 'b', 3: 'c', 4: 'd', 5: 'e', 6: 'f', 7: 'g', 8: 'h', 9: 'i', 10: 'j', 11: 'k', 12: 'l', 13: 'm', 14: 'n', 15: 'o', 16: 'p', 17: 'q', 18: 'r', 19: 's', 20: 't', 21: 'u', 22: 'v', 23: 'w', 24: 'x', 25: 'y', 26: 'z', 0: '.'}\n",
      "vocab_size=27\n"
     ]
    }
   ],
   "source": [
    "# build the vocabulary of characters and mappings to/from integers\n",
    "chars = sorted(list(set(''.join(words))))\n",
    "stoi = {s:i+1 for i, s in enumerate(chars)}\n",
    "stoi['.'] = 0\n",
    "itos = {i: s for s, i in stoi.items()}\n",
    "vocab_size = len(itos)\n",
    "print(f'{itos=}')\n",
    "print(f'{vocab_size=}')"
   ]
  },
  {
   "cell_type": "code",
   "execution_count": 5,
   "id": "426bb74c",
   "metadata": {},
   "outputs": [
    {
     "name": "stdout",
     "output_type": "stream",
     "text": [
      "torch.Size([182625, 3]) torch.Size([182625])\n",
      "torch.Size([22655, 3]) torch.Size([22655])\n",
      "torch.Size([22866, 3]) torch.Size([22866])\n"
     ]
    }
   ],
   "source": [
    "# build the dataset\n",
    "block_size = 3 # context length: how many characters do we take to predict the next one?\n",
    "\n",
    "def build_dataset(words):  \n",
    "  X, Y = [], []\n",
    "  for w in words:\n",
    "    context = [0] * block_size\n",
    "    for ch in w + '.':\n",
    "      ix = stoi[ch]\n",
    "      X.append(context)\n",
    "      Y.append(ix)\n",
    "      context = context[1:] + [ix] # crop and append\n",
    "\n",
    "  X = torch.tensor(X)\n",
    "  Y = torch.tensor(Y)\n",
    "  print(X.shape, Y.shape)\n",
    "  return X, Y\n",
    "\n",
    "import random\n",
    "random.seed(42)\n",
    "random.shuffle(words)\n",
    "n1 = int(0.8*len(words))\n",
    "n2 = int(0.9*len(words))\n",
    "\n",
    "Xtr, Ytr = build_dataset(words[:n1]) # 80%\n",
    "Xdev, Ydev = build_dataset(words[n1:n2]) # 10%\n",
    "Xte, Yte = build_dataset(words[n2:]) # 10%"
   ]
  },
  {
   "cell_type": "code",
   "execution_count": 6,
   "id": "c7d4998d",
   "metadata": {},
   "outputs": [
    {
     "name": "stdout",
     "output_type": "stream",
     "text": [
      "n_parameters=12297\n"
     ]
    }
   ],
   "source": [
    "# MLP\n",
    "n_embed = 10 # the dimensionality of the character embedding vectors\n",
    "n_hidden = 200 # the number of neurons in the hidden layer of the MLP\n",
    "\n",
    "g = torch.Generator().manual_seed(2147483647) # for reproducibility\n",
    "C = torch.randn((vocab_size, n_embed), generator=g)\n",
    "# below is kaiming init\n",
    "# gain = 5/3 for tanh non-linearity\n",
    "W1 = torch.randn((n_embed * block_size, n_hidden), generator=g) * (5/3)/((n_embed * block_size) ** 0.5)\n",
    "b1 = torch.randn(n_hidden, generator=g) * 0.01\n",
    "W2 = torch.randn((n_hidden, vocab_size), generator=g) * 0.01 # W2 scaled down significantly\n",
    "b2 = torch.randn(vocab_size, generator=g) * 0 # b2 reduced to 0\n",
    "\n",
    "bngain = torch.ones((1, n_hidden))\n",
    "bnbias = torch.zeros((1, n_hidden))\n",
    "bnmean_running = torch.zeros((1, n_hidden))\n",
    "bnstds_running = torch.ones((1, n_hidden))\n",
    "parameters = [C, W1, b1, W2, b2, bngain, bnbias]\n",
    "\n",
    "n_parameters = sum(p.nelement() for p in parameters)\n",
    "print(f'{n_parameters=}')\n",
    "for p in parameters:\n",
    "    p.requires_grad = True"
   ]
  },
  {
   "cell_type": "code",
   "execution_count": 7,
   "id": "cc18c7b6",
   "metadata": {},
   "outputs": [
    {
     "name": "stdout",
     "output_type": "stream",
     "text": [
      "      0/ 100000: 3.3147\n",
      "  10000/ 100000: 2.1984\n",
      "  20000/ 100000: 2.3375\n",
      "  30000/ 100000: 2.4359\n",
      "  40000/ 100000: 2.0119\n",
      "  50000/ 100000: 2.2595\n",
      "  60000/ 100000: 2.4233\n",
      "  70000/ 100000: 1.9934\n",
      "  80000/ 100000: 2.2457\n",
      "  90000/ 100000: 2.0637\n"
     ]
    }
   ],
   "source": [
    "max_steps = 100000\n",
    "batch_size = 32\n",
    "lossi = []\n",
    "\n",
    "for i in range(max_steps):\n",
    "    # minibatch construct\n",
    "    ix = torch.randint(0, Xtr.shape[0], (batch_size,),generator=g)\n",
    "    Xb, Yb = Xtr[ix], Ytr[ix] # batch X, Y\n",
    "\n",
    "    # forward pass\n",
    "    emb = C[Xb] # embed the characters into vectors\n",
    "    embcat = emb.view(emb.shape[0], -1) # cancatenate the vectors\n",
    "    hpreact = embcat @ W1 + b1 # hidden layer pre-activation\n",
    "    bnmeani = hpreact.mean(0, keepdim=True)\n",
    "    bnstdi = hpreact.std(0, keepdim=True)\n",
    "    hpreact = bngain * (hpreact - bnmeani) / bnstdi + bnbias\n",
    "\n",
    "    with torch.no_grad():\n",
    "        bnmean_running = 0.999 * bnmean_running + 0.001 * bnmeani\n",
    "        bnstds_running = 0.999 * bnstds_running + 0.001 * bnstdi\n",
    "\n",
    "\n",
    "    h = torch.tanh(hpreact) # hidden layer\n",
    "    logits = h @ W2 + b2 # output layer\n",
    "    loss = F.cross_entropy(logits, Yb) # loss function\n",
    "\n",
    "    # backward pass\n",
    "    for p in parameters:\n",
    "        p.grad = None\n",
    "    loss.backward()\n",
    "\n",
    "    # update\n",
    "    lr = 0.1 if i < 50000 else 0.01 # step learning rate decay\n",
    "    for p in parameters:\n",
    "        p.data += -lr * p.grad\n",
    "        # track stats\n",
    "    if i % 10000 == 0: # print every once in a while\n",
    "        print(f'{i:7d}/{max_steps:7d}: {loss.item():.4f}')\n",
    "    lossi.append(loss.log10().item())"
   ]
  },
  {
   "cell_type": "code",
   "execution_count": 8,
   "id": "ffb800e3",
   "metadata": {},
   "outputs": [
    {
     "data": {
      "text/plain": [
       "tensor([[-1.8483e+00,  5.2657e-01, -9.9517e-01,  1.0307e+00,  1.1862e+00,\n",
       "          6.5325e-01,  1.5726e+00, -1.7183e+00,  6.7963e-01,  1.4387e+00,\n",
       "         -1.3765e+00, -2.0413e+00, -4.5850e-01, -2.4381e-01, -3.3380e-01,\n",
       "         -8.2611e-01,  6.5301e-01, -2.1423e+00, -3.2157e-01,  1.4992e+00,\n",
       "         -3.1797e-01, -3.8373e-03,  3.7596e-02,  4.0800e-01,  1.0144e+00,\n",
       "          3.2119e-01,  1.2402e+00,  2.7762e-01,  3.6779e-01,  1.3419e+00,\n",
       "         -5.2496e-01, -9.6783e-01, -5.6193e-02, -1.4960e-01, -1.6267e-01,\n",
       "         -1.1021e+00, -3.1250e-01,  1.5173e-01, -4.5599e-01,  7.1922e-01,\n",
       "         -2.2738e-01, -8.6753e-01, -3.8233e-01,  4.0928e-02,  8.0865e-01,\n",
       "          3.7409e-01,  1.3148e+00, -4.2575e-01,  2.0818e+00,  1.4373e+00,\n",
       "          8.3659e-01,  1.5194e-02,  1.5430e+00,  8.2966e-01,  7.5025e-01,\n",
       "         -1.5838e+00, -2.6517e-01,  3.8289e-01,  1.2315e+00, -1.1146e+00,\n",
       "         -3.4779e-01,  8.2214e-01,  4.5546e-01,  3.3562e-01,  1.2324e+00,\n",
       "          1.0858e+00, -7.7983e-01,  1.3157e+00, -4.5646e-01,  1.2991e-01,\n",
       "         -2.7371e-01,  2.4191e-01,  8.7945e-01, -1.0450e+00, -2.3877e+00,\n",
       "          2.8414e-01,  1.0171e+00, -6.6775e-02,  2.1514e-01,  5.2283e-01,\n",
       "          3.8231e-01,  1.1345e+00,  1.4556e+00,  7.1982e-01,  4.9618e-01,\n",
       "         -3.1548e-01, -1.3233e+00,  4.2560e-01,  1.7312e+00, -2.7268e-01,\n",
       "         -8.2135e-01,  9.3877e-01, -6.0278e-01, -5.4047e-01, -7.9409e-01,\n",
       "          3.0720e-01, -4.4691e-03, -2.5873e-01,  1.4319e-01, -7.9009e-01,\n",
       "          1.6845e-01,  2.1330e-01, -1.4779e+00,  1.3839e-01,  6.3207e-01,\n",
       "         -2.0642e-01, -7.1435e-01, -1.9284e-01,  9.8981e-01, -9.3385e-01,\n",
       "          7.0930e-01,  2.3216e-01,  6.7299e-02,  1.3095e+00,  1.9749e+00,\n",
       "          1.5499e+00,  3.5919e-01,  4.9079e-01,  2.7518e-01, -2.8027e-01,\n",
       "         -9.4492e-01, -8.4444e-01,  1.8664e-01,  1.1678e+00, -1.0147e+00,\n",
       "         -1.9671e-01,  2.6961e-02, -5.1058e-01, -8.7626e-01, -6.4359e-01,\n",
       "          2.0789e+00, -8.5352e-01,  6.1897e-01,  1.4018e+00,  6.8863e-01,\n",
       "          7.2813e-01, -5.4694e-01,  1.3497e+00,  9.4171e-02,  5.3010e-01,\n",
       "          8.5896e-01, -2.6851e-01,  1.2456e+00,  2.3243e-01,  6.1215e-01,\n",
       "          4.0186e-01,  9.4695e-01, -2.5240e-01,  2.8239e-01,  1.6152e-01,\n",
       "         -1.2468e+00,  5.7745e-01,  1.1328e+00,  1.2785e+00,  6.6794e-01,\n",
       "         -2.0490e-01,  1.0697e+00, -1.3229e+00, -2.2300e-01,  4.3261e-01,\n",
       "          2.3277e-01, -2.7137e-01,  3.0845e-01, -1.2444e+00, -2.0673e-01,\n",
       "         -5.4633e-01,  1.7052e-07, -1.3834e-01, -1.6377e+00, -8.5452e-02,\n",
       "          6.7519e-01, -1.6638e+00,  2.7155e-01, -5.4667e-01, -6.5119e-01,\n",
       "          9.2068e-01,  1.2955e+00, -6.4698e-01,  1.0884e+00, -1.3561e+00,\n",
       "          1.6857e+00,  8.0601e-01,  5.9446e-01, -3.8848e-01,  4.2007e-01,\n",
       "         -5.3827e-02, -5.3967e-01, -1.3838e-01,  1.8516e+00,  1.1752e+00,\n",
       "         -1.7738e-01,  1.1586e+00, -3.9506e-01,  5.1785e-01,  3.6419e-01,\n",
       "          7.7572e-01,  1.4221e+00, -1.0190e+00, -9.3094e-02,  1.0371e+00]])"
      ]
     },
     "execution_count": 8,
     "metadata": {},
     "output_type": "execute_result"
    }
   ],
   "source": [
    "bnmean_running"
   ]
  },
  {
   "cell_type": "code",
   "execution_count": 9,
   "id": "a8391e4e",
   "metadata": {},
   "outputs": [
    {
     "data": {
      "text/plain": [
       "tensor([[2.1026, 1.7520, 1.9079, 1.8599, 1.8391, 2.0568, 1.8229, 1.9032, 1.9983,\n",
       "         1.7225, 2.1377, 1.8232, 1.6402, 1.8832, 1.6406, 2.2422, 2.2594, 1.5716,\n",
       "         1.9078, 2.1102, 1.9526, 2.1302, 1.7244, 1.7885, 1.6469, 1.6417, 1.7474,\n",
       "         2.1217, 1.8973, 2.1268, 1.3580, 1.4690, 1.8919, 1.4518, 1.7492, 1.6437,\n",
       "         2.1246, 1.8203, 2.0852, 1.6438, 1.7285, 1.6470, 2.0364, 1.7585, 1.6716,\n",
       "         1.8528, 1.7833, 2.0485, 1.8396, 2.1590, 1.6303, 1.5869, 1.5683, 1.5812,\n",
       "         1.9802, 1.8065, 1.5812, 1.9236, 2.2481, 1.5348, 1.7403, 1.6054, 1.6894,\n",
       "         1.9523, 1.8846, 1.9788, 1.8270, 2.1095, 1.6981, 1.9004, 1.7384, 1.7172,\n",
       "         1.6163, 1.7760, 1.5698, 1.4823, 2.1318, 1.9086, 1.4925, 1.8528, 1.7601,\n",
       "         1.5281, 1.6043, 1.9452, 2.2169, 1.9448, 1.7873, 2.0942, 2.3469, 2.0663,\n",
       "         1.7457, 1.6100, 1.7337, 1.9222, 1.7612, 1.8778, 1.8358, 1.6415, 1.5640,\n",
       "         1.9648, 1.7349, 1.8682, 2.0384, 1.6450, 1.5345, 1.8419, 1.5279, 1.7319,\n",
       "         1.7556, 1.8658, 1.9442, 1.8381, 1.7535, 1.9519, 1.9788, 2.1037, 1.7180,\n",
       "         1.5232, 1.7802, 1.8320, 1.7076, 1.7544, 1.5794, 1.6724, 1.7203, 1.7792,\n",
       "         1.8006, 1.6423, 1.6807, 1.8293, 1.5395, 2.1109, 2.0249, 1.7470, 1.7116,\n",
       "         1.7580, 1.8641, 2.6420, 1.3229, 1.7099, 1.6492, 1.5468, 1.8037, 1.4627,\n",
       "         1.7783, 1.9739, 1.7118, 1.7299, 1.6668, 1.4000, 1.3031, 1.8807, 1.5452,\n",
       "         1.7334, 1.9250, 1.8923, 1.6179, 1.5568, 1.6865, 1.5576, 1.9115, 1.6321,\n",
       "         1.5857, 2.0388, 1.8227, 1.4906, 1.9678, 1.4471, 1.7127, 1.6629, 1.3765,\n",
       "         1.7213, 1.7832, 1.7393, 2.1963, 1.6002, 1.8064, 1.8485, 1.8136, 1.7273,\n",
       "         2.0362, 1.8513, 1.8813, 1.6599, 1.6011, 1.8256, 1.8220, 1.6775, 2.3368,\n",
       "         1.9905, 1.5653, 1.8056, 1.8141, 1.3911, 1.6868, 1.8031, 1.8255, 2.3101,\n",
       "         1.9647, 1.6423]])"
      ]
     },
     "execution_count": 9,
     "metadata": {},
     "output_type": "execute_result"
    }
   ],
   "source": [
    "bnstds_running"
   ]
  },
  {
   "cell_type": "code",
   "execution_count": 10,
   "id": "b6a21dc4",
   "metadata": {},
   "outputs": [
    {
     "name": "stdout",
     "output_type": "stream",
     "text": [
      "train 2.0939648151397705\n",
      "val 2.1244211196899414\n"
     ]
    }
   ],
   "source": [
    "@torch.no_grad() # this decorator disables gradient tracking\n",
    "# this prevents torch from keeping track of computational graph, because we aren't going to do backward pass\n",
    "def split_loss(split):\n",
    "    x, y = {\n",
    "        'train': (Xtr, Ytr),\n",
    "        'val': (Xdev, Ydev),\n",
    "        'test': (Xte, Yte),\n",
    "    }[split]\n",
    "    emb = C[x] # (N, block_size, n_embed)\n",
    "    embcat = emb.view(emb.shape[0], -1) # concat into (N, block_size * n_embed)\n",
    "    hpreact = embcat @ W1 + b1\n",
    "    # hpreact = bngain * (hpreact - hpreact.mean(0, keepdim=True) / hpreact.std(0, keepdim=True)) + bnbias\n",
    "    hpreact = bngain * (hpreact - bnmean_running) / bnstds_running + bnbias\n",
    "    h = torch.tanh(hpreact) # (N, n_hidden)\n",
    "    logits = h @ W2 + b2 # (N, vocab_size)\n",
    "    loss = F.cross_entropy(logits, y)\n",
    "    print(split, loss.item())\n",
    "\n",
    "split_loss('train')\n",
    "split_loss('val')"
   ]
  },
  {
   "cell_type": "code",
   "execution_count": 11,
   "id": "83cb4f9f",
   "metadata": {},
   "outputs": [
    {
     "name": "stdout",
     "output_type": "stream",
     "text": [
      "carmah.\n",
      "amille.\n",
      "khi.\n",
      "mrix.\n",
      "taty.\n",
      "salaysie.\n",
      "mahnee.\n",
      "den.\n",
      "rha.\n",
      "kaeli.\n",
      "nellara.\n",
      "chaiir.\n",
      "kaleigh.\n",
      "ham.\n",
      "join.\n",
      "quinn.\n",
      "suli.\n",
      "malianni.\n",
      "wate.\n",
      "madiaryni.\n"
     ]
    }
   ],
   "source": [
    "# sample from the model\n",
    "g = torch.Generator().manual_seed(2147483647 + 10)\n",
    "\n",
    "for _ in range(20):\n",
    "    \n",
    "    out = []\n",
    "    context = [0] * block_size # initialize with all ...\n",
    "    while True:\n",
    "      emb = C[torch.tensor([context])] # (1,block_size,d)\n",
    "      hpreact = emb.view(1, -1) @ W1 + b1\n",
    "      hpreact = bngain * (hpreact - bnmean_running) / bnstds_running + bnbias\n",
    "      h = torch.tanh(hpreact)\n",
    "      logits = h @ W2 + b2\n",
    "      probs = F.softmax(logits, dim=1)\n",
    "      ix = torch.multinomial(probs, num_samples=1, generator=g).item()\n",
    "      context = context[1:] + [ix]\n",
    "      out.append(ix)\n",
    "      if ix == 0:\n",
    "        break\n",
    "    \n",
    "    print(''.join(itos[i] for i in out))"
   ]
  },
  {
   "cell_type": "code",
   "execution_count": 12,
   "id": "3f076448",
   "metadata": {},
   "outputs": [],
   "source": [
    "# conclusion\n",
    "# loss log\n",
    "\n",
    "'''\n",
    "original: \n",
    "train 2.1267659664154053\n",
    "val 2.1697638034820557\n",
    "\n",
    "fix softmax confidently wrong, reducing logits extremes, by reducing initial size of W2, b2:\n",
    "train 2.0695769786834717\n",
    "val 2.131199836730957\n",
    "\n",
    "fix tanh layer too saturated at init, preventing h taking values at tails of tanh after \"first iteration\",\n",
    "by reducing initial size of W1, b1\n",
    "train 2.0369434356689453\n",
    "val 2.103416919708252\n",
    "\n",
    "add a batch norm layer\n",
    "train 2.0459063053131104\n",
    "val 2.1086337566375732\n",
    "'''; "
   ]
  },
  {
   "cell_type": "code",
   "execution_count": 13,
   "id": "2dea8ddf",
   "metadata": {},
   "outputs": [],
   "source": [
    "# what we want is before applying tanh, we need to make sure that \n",
    "# hpreact is neither too small or too extreme\n",
    "# remember below is the tanh backward implementation\n",
    "\n",
    "'''\n",
    "def tanh(self):\n",
    "        x = self.data\n",
    "        t = (math.exp(2 * x) - 1) / (math.exp(2 * x) + 1)\n",
    "        out = Value(t, (self,), 'tanh')\n",
    "        def _backward():\n",
    "            self.grad += (1 - t**2) * out.grad\n",
    "        out._backward = _backward\n",
    "        return out\n",
    "\n",
    "focus on this formula - self.grad += (1 - t**2) * out.grad\n",
    "\n",
    "if t = 0, then during backward pass gradient will pass on to children nodes\n",
    "if t = 1/-1, then gradient passed will be 0\n",
    "'''; \n",
    "\n",
    "# so we want to hpreact to be gaussian distribution, values uniformly distributed b/w -1 and 1\n",
    "# so we perform batch normalisation\n",
    "\n",
    "# why multiply by bngain and then add bnbias?\n",
    "# answer - because we want to allow hpreact to remain gaussian but allow it's scaling and movement\n",
    "# so multiplying by bngain ensures model can scale up or down hpreact, and adding bnbias ensures\n",
    "# it can move the hpreact left or right according to optimization during the NN training "
   ]
  }
 ],
 "metadata": {
  "kernelspec": {
   "display_name": "base",
   "language": "python",
   "name": "python3"
  },
  "language_info": {
   "codemirror_mode": {
    "name": "ipython",
    "version": 3
   },
   "file_extension": ".py",
   "mimetype": "text/x-python",
   "name": "python",
   "nbconvert_exporter": "python",
   "pygments_lexer": "ipython3",
   "version": "3.13.5"
  }
 },
 "nbformat": 4,
 "nbformat_minor": 5
}
