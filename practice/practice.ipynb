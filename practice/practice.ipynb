{
 "cells": [
  {
   "cell_type": "code",
   "execution_count": 2,
   "id": "fa3dcddf",
   "metadata": {},
   "outputs": [],
   "source": [
    "import numpy as np\n",
    "def to_categorical(x, n_col=None):\n",
    "    # Your code here\n",
    "    sorted_x = sorted(x)\n",
    "    encountered = {}\n",
    "    for v in sorted_x:\n",
    "        if v not in encountered:\n",
    "            encountered[v] = None\n",
    "    total = n_col if n_col is not None else len(encountered)\n",
    "    i = total - len(encountered)\n",
    "    for k in encountered:\n",
    "        encountered[k] = [1 if j == i else 0 for j in range(total)]\n",
    "        i += 1\n",
    "    res = []\n",
    "    for v in x:\n",
    "        res.append(encountered[v])\n",
    "    return res"
   ]
  },
  {
   "cell_type": "code",
   "execution_count": 3,
   "id": "bfb02917",
   "metadata": {},
   "outputs": [
    {
     "name": "stdout",
     "output_type": "stream",
     "text": [
      "[[1, 0, 0], [0, 1, 0], [0, 0, 1], [0, 1, 0], [1, 0, 0]]\n"
     ]
    }
   ],
   "source": [
    "x = np.array([0, 1, 2, 1, 0])\n",
    "output = to_categorical(x)\n",
    "print(output)"
   ]
  },
  {
   "cell_type": "code",
   "execution_count": 4,
   "id": "1bdac8f0",
   "metadata": {},
   "outputs": [
    {
     "name": "stdout",
     "output_type": "stream",
     "text": [
      "[[0, 0, 0, 1], [0, 1, 0, 0], [0, 0, 1, 0], [0, 1, 0, 0], [0, 0, 0, 1]]\n"
     ]
    }
   ],
   "source": [
    "print(to_categorical(np.array([3, 1, 2, 1, 3]), 4))"
   ]
  },
  {
   "cell_type": "code",
   "execution_count": 8,
   "id": "1099e875",
   "metadata": {},
   "outputs": [
    {
     "data": {
      "text/plain": [
       "np.int64(20)"
      ]
     },
     "execution_count": 8,
     "metadata": {},
     "output_type": "execute_result"
    }
   ],
   "source": [
    "x = np.array([3, 1, 2, 1, 3, 20])\n",
    "np.amax(x)"
   ]
  },
  {
   "cell_type": "code",
   "execution_count": null,
   "id": "eb78b4fb",
   "metadata": {},
   "outputs": [],
   "source": []
  }
 ],
 "metadata": {
  "kernelspec": {
   "display_name": "base",
   "language": "python",
   "name": "python3"
  },
  "language_info": {
   "codemirror_mode": {
    "name": "ipython",
    "version": 3
   },
   "file_extension": ".py",
   "mimetype": "text/x-python",
   "name": "python",
   "nbconvert_exporter": "python",
   "pygments_lexer": "ipython3",
   "version": "3.13.5"
  }
 },
 "nbformat": 4,
 "nbformat_minor": 5
}
